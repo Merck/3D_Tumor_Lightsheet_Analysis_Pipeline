{
 "cells": [
  {
   "cell_type": "code",
   "execution_count": 1,
   "source": [
    "\"\"\"\n",
    "main module:\n",
    "module to run the whole pipleline\n",
    "\"\"\"\n",
    "\n",
    "import os\n",
    "from pathlib import Path\n",
    "\n",
    "from src.config import load_config\n",
    "from src.distance_transform import calculate_distance_tranform\n",
    "from src.preprocessing import data_preprocessing_wrapper\n",
    "from src.profiles import calculate_profile, vizualize_profile\n",
    "from src.segmentation import segmentation_wrapper\n",
    "from src.segmentation_postprocessing import postprocess_masks\n",
    "from src.utils import set_root_directory"
   ],
   "outputs": [
    {
     "output_type": "stream",
     "name": "stderr",
     "text": [
      "/Users/hrobar/Documents/MERCK/MSD_Projects/3D_Tumor_Lightsheet_Analysis_Pipeline/src/segmentation_postprocessing.py:28: FutureWarning: Importing from skimage.morphology.grey is deprecated. Please import from skimage.morphology instead.\n",
      "  from skimage.morphology.grey import dilation\n"
     ]
    }
   ],
   "metadata": {}
  },
  {
   "cell_type": "code",
   "execution_count": 2,
   "source": [
    "root_directory_path = set_root_directory()\n",
    "\n",
    "# Config file\n",
    "config_path = root_directory_path.joinpath(\"data/demo_study/config.json\")\n",
    "experiment = load_config(config_path)\n",
    "\n",
    "MLFLOW_TRACKING_URI = root_directory_path.joinpath(\"data/mlruns\")\n",
    "MLFLOW_EXPERIMENT_NAME = \"experiments\"\n",
    "SCRIPT_NAME = \"master_script.py\""
   ],
   "outputs": [
    {
     "output_type": "stream",
     "name": "stdout",
     "text": [
      "setting root directory to: /Users/hrobar/Documents/MERCK/MSD_Projects/3D_Tumor_Lightsheet_Analysis_Pipeline\n"
     ]
    }
   ],
   "metadata": {}
  },
  {
   "cell_type": "code",
   "execution_count": 3,
   "source": [
    "experiment[\"data\"][\"source\"][\"transformed\"] = experiment[\"data\"][\"source\"][\"raw\"]\n",
    "experiment[\"data\"][\"source\"][\"transformed\"]"
   ],
   "outputs": [
    {
     "output_type": "execute_result",
     "data": {
      "text/plain": [
       "{'vessel': Path('/Users/hrobar/Documents/MERCK/MSD_Projects/3D_Tumor_Lightsheet_Analysis_Pipeline/data/demo_study/source/raw/vessel'), 'tumor': Path('/Users/hrobar/Documents/MERCK/MSD_Projects/3D_Tumor_Lightsheet_Analysis_Pipeline/data/demo_study/source/raw/tumor'), 'virus': Path('/Users/hrobar/Documents/MERCK/MSD_Projects/3D_Tumor_Lightsheet_Analysis_Pipeline/data/demo_study/source/raw/virus')}"
      ]
     },
     "metadata": {},
     "execution_count": 3
    }
   ],
   "metadata": {}
  },
  {
   "cell_type": "code",
   "execution_count": 4,
   "source": [
    "# NOTE: To reduce the repo size, we already provided reduced data for the demo purposes\n",
    "#######################################\n",
    "# # DATA PREPROCESSING\n",
    "# #####################################\n",
    "\n",
    "# experiment[\"data\"][\"source\"][\"transformed\"] = data_preprocessing_wrapper(\n",
    "#     experiment[\"data\"][\"source\"][\"raw\"]\n",
    "# )\n",
    "\n",
    "for key in experiment[\"data\"][\"source\"][\"transformed\"]:\n",
    "    experiment[\"data\"][\"source\"][\"transformed\"][key] = Path(str(experiment[\"data\"][\"source\"][\"transformed\"][key]).replace('raw', 'transformed/np_and_resized'))\n"
   ],
   "outputs": [],
   "metadata": {}
  },
  {
   "cell_type": "code",
   "execution_count": 5,
   "source": [
    "#######################################\n",
    "# # SEGMENTATION\n",
    "# #####################################\n",
    "\n",
    "# segmentation of blood vessels\n",
    "out_path = segmentation_wrapper(\n",
    "    experiment[\"data\"][\"source\"][\"transformed\"][\"vessel\"],\n",
    "    **experiment[\"segmentation_method_vessel\"],\n",
    ")\n",
    "experiment[\"data\"][\"results\"][\"segmentation\"][\"vessel\"] = out_path\n",
    "\n",
    "\n",
    "# segmentation of tumors\n",
    "out_path = segmentation_wrapper(\n",
    "    experiment[\"data\"][\"source\"][\"transformed\"][\"tumor\"],\n",
    "    **experiment[\"segmentation_method_tumor\"],\n",
    ")\n",
    "experiment[\"data\"][\"results\"][\"segmentation\"][\"tumor\"] = out_path\n",
    "\n",
    "# # postprocessing tumor masks\n",
    "out_path = postprocess_masks(\n",
    "    experiment[\"data\"][\"results\"][\"segmentation\"][\"tumor\"],\n",
    "    **experiment[\"segmentation_postprocessing_tumor\"],\n",
    ")\n",
    "experiment[\"data\"][\"results\"][\"segmentation_postprocessing\"][\n",
    "    \"tumor\"\n",
    "] = out_path"
   ],
   "outputs": [
    {
     "output_type": "stream",
     "name": "stdout",
     "text": [
      "\n",
      "\n",
      "running segmentation_wrapper\n",
      "\n",
      "\n",
      "Number of files with the folders does not match\n",
      "Deleting 0 files in segment___thresholding___method-th_otsu\n",
      "Done!\n",
      "\n",
      "\n",
      "running thresholding\n",
      "\n",
      "\n"
     ]
    },
    {
     "output_type": "display_data",
     "data": {
      "text/plain": [
       "<IPython.core.display.HTML object>"
      ],
      "text/html": []
     },
     "metadata": {}
    },
    {
     "output_type": "stream",
     "name": "stdout",
     "text": [
      "threshold th_otsu value: 778.0\n",
      "Number of files with the folders does not match\n",
      "Deleting 0 files in segment___thresholding___method-th_otsu\n",
      "Done!\n"
     ]
    },
    {
     "output_type": "stream",
     "name": "stderr",
     "text": [
      "100%|██████████| 15/15 [00:00<00:00, 115.81it/s]"
     ]
    },
    {
     "output_type": "stream",
     "name": "stdout",
     "text": [
      "function thresholding took 0:00:00.284259s\n",
      "function segmentation_wrapper took 0:00:00.287687s\n",
      "\n",
      "\n",
      "running segmentation_wrapper\n",
      "\n",
      "\n",
      "Number of files with the folders does not match\n",
      "Deleting 0 files in segment___thresholding___method-th_triangle\n",
      "Done!\n",
      "\n",
      "\n",
      "running thresholding\n",
      "\n",
      "\n"
     ]
    },
    {
     "output_type": "stream",
     "name": "stderr",
     "text": [
      "\n"
     ]
    },
    {
     "output_type": "display_data",
     "data": {
      "text/plain": [
       "<IPython.core.display.HTML object>"
      ],
      "text/html": []
     },
     "metadata": {}
    },
    {
     "output_type": "stream",
     "name": "stdout",
     "text": [
      "threshold th_triangle value: 25.0\n",
      "Number of files with the folders does not match\n",
      "Deleting 0 files in segment___thresholding___method-th_triangle\n",
      "Done!\n"
     ]
    },
    {
     "output_type": "stream",
     "name": "stderr",
     "text": [
      "100%|██████████| 15/15 [00:00<00:00, 142.69it/s]"
     ]
    },
    {
     "output_type": "stream",
     "name": "stdout",
     "text": [
      "function thresholding took 0:00:00.275563s\n",
      "function segmentation_wrapper took 0:00:00.282641s\n",
      "\n",
      "\n",
      "running postprocess_masks\n",
      "\n",
      "\n",
      "Number of files with the folders does not match\n",
      "Deleting 0 files in postprocess_masks___split_tumor_into_core_and_periphery___segment___thresholding___method-th_triangle\n",
      "Done!\n"
     ]
    },
    {
     "output_type": "stream",
     "name": "stderr",
     "text": [
      "\n"
     ]
    },
    {
     "output_type": "display_data",
     "data": {
      "text/plain": [
       "<IPython.core.display.HTML object>"
      ],
      "text/html": []
     },
     "metadata": {}
    },
    {
     "output_type": "display_data",
     "data": {
      "text/plain": [
       "<IPython.core.display.HTML object>"
      ],
      "text/html": []
     },
     "metadata": {}
    },
    {
     "output_type": "stream",
     "name": "stdout",
     "text": [
      "function postprocess_masks took 0:00:01.367196s\n"
     ]
    }
   ],
   "metadata": {}
  },
  {
   "cell_type": "code",
   "execution_count": 6,
   "source": [
    "#######################################\n",
    "# # DISTANCE TRANSFORM\n",
    "# #####################################\n",
    "\n",
    "out_path = calculate_distance_tranform(\n",
    "    experiment[\"data\"][\"results\"][\"segmentation\"][\"vessel\"],\n",
    "    **experiment[\"distance_tranform\"][\"method_parameters\"],\n",
    ")\n",
    "experiment[\"data\"][\"results\"][\"distance_transform\"][\"vessel\"] = out_path\n",
    "\n"
   ],
   "outputs": [
    {
     "output_type": "stream",
     "name": "stdout",
     "text": [
      "\n",
      "\n",
      "running calculate_distance_tranform\n",
      "\n",
      "\n",
      "Number of files with the folders does not match\n",
      "Deleting 0 files in distance_tranform___segment___thresholding___method-th_otsu\n",
      "Done!\n",
      "Deleting 0 files in tmp_overlapping_bricks___segment___thresholding___method-th_otsu\n",
      "Done!\n",
      "\n",
      "\n",
      "running _merge_with_overlap\n",
      "\n",
      "\n"
     ]
    },
    {
     "output_type": "stream",
     "name": "stderr",
     "text": [
      "100%|██████████| 6/6 [00:00<00:00, 61.47it/s]\n"
     ]
    },
    {
     "output_type": "stream",
     "name": "stdout",
     "text": [
      "function _merge_with_overlap took 0:00:00.101100s\n",
      "Deleting 0 files in tmp_dt_overlapping_bricks___segment___thresholding___method-th_otsu\n",
      "Done!\n",
      "\n",
      "\n",
      "running _compute_distance_transform\n",
      "\n",
      "\n"
     ]
    },
    {
     "output_type": "stream",
     "name": "stderr",
     "text": [
      "100%|██████████| 6/6 [00:08<00:00,  1.49s/it]\n"
     ]
    },
    {
     "output_type": "stream",
     "name": "stdout",
     "text": [
      "function _compute_distance_transform took 0:00:08.930649s\n",
      "Deleting 0 files in tmp_dt_aggregated_bricks___segment___thresholding___method-th_otsu\n",
      "Done!\n",
      "\n",
      "\n",
      "running _aggregate\n",
      "\n",
      "\n",
      "function _aggregate took 0:00:00.247814s\n",
      "Deleting 0 files in distance_tranform___segment___thresholding___method-th_otsu\n",
      "Done!\n",
      "\n",
      "\n",
      "running _split\n",
      "\n",
      "\n"
     ]
    },
    {
     "output_type": "stream",
     "name": "stderr",
     "text": [
      "100%|██████████| 3/3 [00:00<00:00, 18.33it/s]"
     ]
    },
    {
     "output_type": "stream",
     "name": "stdout",
     "text": [
      "function _split took 0:00:00.167913s\n",
      "function calculate_distance_tranform took 0:00:09.459942s\n"
     ]
    },
    {
     "output_type": "stream",
     "name": "stderr",
     "text": [
      "\n"
     ]
    }
   ],
   "metadata": {}
  },
  {
   "cell_type": "code",
   "execution_count": 7,
   "source": [
    "\n",
    "#######################################\n",
    "# # PROFILE\n",
    "# #####################################\n",
    "\n",
    "# calculating the final profile\n",
    "profiles = calculate_profile(\n",
    "    experiment[\"data\"][\"source\"][\"transformed\"][\"virus\"],\n",
    "    experiment[\"data\"][\"results\"][\"distance_transform\"][\"vessel\"],\n",
    "    experiment[\"data\"][\"results\"][\"segmentation_postprocessing\"][\"tumor\"],\n",
    "    pixel_to_microns = 4,\n",
    "    force_overwrite=True,\n",
    ")\n",
    "\n",
    "\"\"\n",
    "profile_all = vizualize_profile(profiles[\"all\"])\n",
    "profile_core = vizualize_profile(profiles[\"core\"])\n",
    "profile_periphery = vizualize_profile(profiles[\"periphery\"])"
   ],
   "outputs": [
    {
     "output_type": "stream",
     "name": "stdout",
     "text": [
      "\n",
      "\n",
      "running calculate_profile\n",
      "\n",
      "\n"
     ]
    },
    {
     "output_type": "display_data",
     "data": {
      "text/plain": [
       "<IPython.core.display.HTML object>"
      ],
      "text/html": []
     },
     "metadata": {}
    },
    {
     "output_type": "stream",
     "name": "stderr",
     "text": [
      "100%|██████████| 12/12 [00:00<00:00, 49152.00it/s]\n"
     ]
    },
    {
     "output_type": "stream",
     "name": "stdout",
     "text": [
      "\n",
      "\n",
      "running rescale_column_pandas\n",
      "\n",
      "\n",
      "function rescale_column_pandas took 0:00:00.000780s\n",
      "\n",
      "\n",
      "running rescale_column_pandas\n",
      "\n",
      "\n",
      "function rescale_column_pandas took 0:00:00.000571s\n",
      "\n",
      "\n",
      "running rescale_column_pandas\n",
      "\n",
      "\n",
      "function rescale_column_pandas took 0:00:00.001372s\n",
      "function calculate_profile took 0:00:01.203305s\n"
     ]
    },
    {
     "output_type": "display_data",
     "data": {
      "text/plain": [
       "<Figure size 432x432 with 1 Axes>"
      ],
      "image/png": "[encoded data removed]"
     },
     "metadata": {
      "needs_background": "light"
     }
    },
    {
     "output_type": "display_data",
     "data": {
      "text/plain": [
       "<Figure size 432x432 with 1 Axes>"
      ],
      "image/png": "[encoded data removed]"
     },
     "metadata": {
      "needs_background": "light"
     }
    },
    {
     "output_type": "display_data",
     "data": {
      "text/plain": [
       "<Figure size 432x432 with 1 Axes>"
      ],
      "image/png": "[encoded data removed]"
     },
     "metadata": {
      "needs_background": "light"
     }
    }
   ],
   "metadata": {}
  },
  {
   "cell_type": "code",
   "execution_count": null,
   "source": [],
   "outputs": [],
   "metadata": {}
  }
 ],
 "metadata": {
  "orig_nbformat": 4,
  "language_info": {
   "name": "python",
   "version": "3.7.12",
   "mimetype": "text/x-python",
   "codemirror_mode": {
    "name": "ipython",
    "version": 3
   },
   "pygments_lexer": "ipython3",
   "nbconvert_exporter": "python",
   "file_extension": ".py"
  },
  "kernelspec": {
   "name": "python3",
   "display_name": "Python 3.7.12 64-bit ('3d': conda)"
  },
  "interpreter": {
   "hash": "60f5f617953ddebfce4499b2fc8d78ca048ca7598feb7f0e0664ac8421710187"
  }
 },
 "nbformat": 4,
 "nbformat_minor": 2
}